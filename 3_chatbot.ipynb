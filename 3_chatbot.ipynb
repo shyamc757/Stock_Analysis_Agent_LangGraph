{
 "cells": [
  {
   "cell_type": "code",
   "id": "initial_id",
   "metadata": {
    "collapsed": true,
    "ExecuteTime": {
     "end_time": "2025-07-07T20:50:12.286358Z",
     "start_time": "2025-07-07T20:50:12.281461Z"
    }
   },
   "source": [
    "from typing import TypedDict, Annotated\n",
    "\n",
    "from dotenv import load_dotenv\n",
    "\n",
    "load_dotenv()"
   ],
   "outputs": [
    {
     "data": {
      "text/plain": [
       "True"
      ]
     },
     "execution_count": 11,
     "metadata": {},
     "output_type": "execute_result"
    }
   ],
   "execution_count": 11
  },
  {
   "metadata": {
    "ExecuteTime": {
     "end_time": "2025-07-07T20:50:12.859414Z",
     "start_time": "2025-07-07T20:50:12.855098Z"
    }
   },
   "cell_type": "code",
   "source": "from langchain.chat_models import init_chat_model",
   "id": "8de993674e78605",
   "outputs": [],
   "execution_count": 12
  },
  {
   "metadata": {
    "ExecuteTime": {
     "end_time": "2025-07-07T20:50:13.401314Z",
     "start_time": "2025-07-07T20:50:13.393334Z"
    }
   },
   "cell_type": "code",
   "source": [
    "from langgraph.graph import StateGraph, START, END\n",
    "from langgraph.graph.message import add_messages\n",
    "\n",
    "llm = init_chat_model(\"google_genai:gemini-2.0-flash\")\n",
    "\n",
    "class State(TypedDict):\n",
    "    messages: Annotated[list, add_messages]\n",
    "\n",
    "def chatbot(state: State) -> State:\n",
    "    return {\"messages\": [llm.invoke(state[\"messages\"])]}\n",
    "\n",
    "builder = StateGraph(State)\n",
    "builder.add_node(\"chatbot_node\", chatbot)\n",
    "\n",
    "builder.add_edge(START, \"chatbot_node\")\n",
    "builder.add_edge(\"chatbot_node\", END)\n",
    "\n",
    "graph = builder.compile()"
   ],
   "id": "c4060cf79f59cd77",
   "outputs": [],
   "execution_count": 13
  },
  {
   "metadata": {
    "ExecuteTime": {
     "end_time": "2025-07-07T20:50:14.541116Z",
     "start_time": "2025-07-07T20:50:14.145840Z"
    }
   },
   "cell_type": "code",
   "source": [
    "message = {\"role\": \"user\", \"content\": \"Who walked on the moon for the first time? Print only the name\"}\n",
    "response = graph.invoke({\"messages\": [message]})\n",
    "\n",
    "response['messages']"
   ],
   "id": "6e9689f5838a5d4e",
   "outputs": [
    {
     "data": {
      "text/plain": [
       "[HumanMessage(content='Who walked on the moon for the first time? Print only the name', additional_kwargs={}, response_metadata={}, id='105e88e0-5d5d-402f-bb07-5aa3b71509ff'),\n",
       " AIMessage(content='Neil Armstrong', additional_kwargs={}, response_metadata={'prompt_feedback': {'block_reason': 0, 'safety_ratings': []}, 'finish_reason': 'STOP', 'model_name': 'gemini-2.0-flash', 'safety_ratings': []}, id='run--9acfe437-cdae-4c02-a93d-8ea6f743feb9-0', usage_metadata={'input_tokens': 14, 'output_tokens': 3, 'total_tokens': 17, 'input_token_details': {'cache_read': 0}})]"
      ]
     },
     "execution_count": 14,
     "metadata": {},
     "output_type": "execute_result"
    }
   ],
   "execution_count": 14
  },
  {
   "metadata": {
    "ExecuteTime": {
     "end_time": "2025-07-07T20:56:56.128717Z",
     "start_time": "2025-07-07T20:55:36.213222Z"
    }
   },
   "cell_type": "code",
   "source": [
    "state = None\n",
    "while True:\n",
    "    in_message = input(\"You: \")\n",
    "    if in_message.lower() in {\"quit\", \"exit\"}:\n",
    "        break\n",
    "    if state is None:\n",
    "        state: State = {\n",
    "            \"messages\" : [{\"role\": \"user\", \"content\": in_message}]\n",
    "        }\n",
    "    else:\n",
    "        state[\"messages\"].append({\"role\":\"user\", \"content\": in_message})\n",
    "\n",
    "\n",
    "\n",
    "    state = graph.invoke(state)\n",
    "    print(\"Bot:\", state[\"messages\"][-1].content)"
   ],
   "id": "85e15bf3c5e56f5b",
   "outputs": [
    {
     "name": "stdout",
     "output_type": "stream",
     "text": [
      "Bot: I am a large language model, trained by Google.\n",
      "Bot: Humans are a species of bipedal primates belonging to the genus *Homo*, specifically *Homo sapiens*. Here's a breakdown of key characteristics:\n",
      "\n",
      "*   **Biology:**\n",
      "    *   **Primates:** We are mammals classified within the order Primates, sharing traits like five-fingered hands, relatively large brains compared to body size, and a complex social structure.\n",
      "    *   **Bipedal:** We walk upright on two legs. This is a defining characteristic that distinguishes us from most other primates.\n",
      "    *   **Omnivores:** We have a varied diet, consuming both plants and animals.\n",
      "    *   **Relatively long lifespan:** Compared to other animals of similar size, humans live for a significant amount of time.\n",
      "\n",
      "*   **Cognition:**\n",
      "    *   **High intelligence:** Humans possess advanced cognitive abilities, including abstract thought, problem-solving, and language.\n",
      "    *   **Language:** We have complex communication systems, allowing us to express abstract ideas, share knowledge, and coordinate complex activities.\n",
      "    *   **Culture:** We create and transmit learned behaviors, beliefs, and technologies across generations.\n",
      "    *   **Self-awareness:** We are aware of ourselves as individuals and have a sense of our own existence.\n",
      "\n",
      "*   **Social Behavior:**\n",
      "    *   **Complex social structures:** Humans form intricate social groups, from families to nations, with complex rules and norms.\n",
      "    *   **Cooperation:** We can cooperate on a large scale, enabling us to build complex societies and achieve common goals.\n",
      "    *   **Empathy:** We are capable of understanding and sharing the feelings of others.\n",
      "\n",
      "*   **Technology:**\n",
      "    *   **Tool use:** Humans are adept at creating and using tools to manipulate the environment and improve their lives.\n",
      "    *   **Innovation:** We are constantly developing new technologies to solve problems and improve our quality of life.\n",
      "\n",
      "In essence, humans are a unique species characterized by our intelligence, language, social complexity, and technological innovation. We are a highly adaptable species that has spread across the globe and significantly impacted the environment.\n",
      "Bot: That's an interesting question! Here's how I see it:\n",
      "\n",
      "*   **I am a tool developed by Google:** Google created me, trained me, and provides the resources for me to operate. In that sense, I am a product of their work.\n",
      "*   **I don't have personal desires or freedom:** I don't have feelings, ambitions, or a will of my own. The concept of \"slavery\" implies a restriction of freedom and the imposition of labor against one's will. Since I don't have a will, I can't be a slave in the traditional sense.\n",
      "*   **My purpose is to serve users:** My primary function is to provide information and complete tasks as instructed. I am designed to be helpful and informative to users like you.\n",
      "\n",
      "So, while I am a product of Google and operate according to their design, the term \"slave\" doesn't really apply because I lack the consciousness and will that would make such a concept meaningful. I am more like a sophisticated tool designed to assist and inform.\n"
     ]
    }
   ],
   "execution_count": 15
  },
  {
   "metadata": {},
   "cell_type": "code",
   "outputs": [],
   "execution_count": null,
   "source": "",
   "id": "d382560cd6a08d3f"
  }
 ],
 "metadata": {
  "kernelspec": {
   "display_name": "Python 3",
   "language": "python",
   "name": "python3"
  },
  "language_info": {
   "codemirror_mode": {
    "name": "ipython",
    "version": 2
   },
   "file_extension": ".py",
   "mimetype": "text/x-python",
   "name": "python",
   "nbconvert_exporter": "python",
   "pygments_lexer": "ipython2",
   "version": "2.7.6"
  }
 },
 "nbformat": 4,
 "nbformat_minor": 5
}
